{
 "cells": [
  {
   "cell_type": "code",
   "execution_count": null,
   "metadata": {},
   "outputs": [],
   "source": []
  },
  {
   "cell_type": "code",
   "execution_count": 2,
   "metadata": {},
   "outputs": [],
   "source": [
    "# What is Numpy\n",
    "# Numpy Vs List\n",
    "# Operations\n",
    "# Numpy specific functions"
   ]
  },
  {
   "cell_type": "markdown",
   "metadata": {},
   "source": [
    "# What is Numpy\n",
    "<img src=\"npdefination.png\">\n"
   ]
  },
  {
   "cell_type": "code",
   "execution_count": 4,
   "metadata": {},
   "outputs": [
    {
     "data": {
      "text/plain": [
       "array([1, 2, 3, 4])"
      ]
     },
     "execution_count": 4,
     "metadata": {},
     "output_type": "execute_result"
    }
   ],
   "source": [
    "import numpy as np\n",
    "a = np.array([1,2,3,4])\n",
    "a"
   ]
  },
  {
   "cell_type": "code",
   "execution_count": 5,
   "metadata": {},
   "outputs": [
    {
     "data": {
      "text/plain": [
       "array([[1, 2, 3],\n",
       "       [3, 4, 5]])"
      ]
     },
     "execution_count": 5,
     "metadata": {},
     "output_type": "execute_result"
    }
   ],
   "source": [
    "a = np.array([[1,2,3],[3,4,5]])\n",
    "a"
   ]
  },
  {
   "cell_type": "markdown",
   "metadata": {},
   "source": [
    "# Numpy Vs List\n",
    "<img src=\"npVSList.png\">"
   ]
  },
  {
   "cell_type": "code",
   "execution_count": 10,
   "metadata": {},
   "outputs": [
    {
     "name": "stdout",
     "output_type": "stream",
     "text": [
      "48000\n",
      "4000\n"
     ]
    }
   ],
   "source": [
    "import time\n",
    "import sys\n",
    "S = range(1000)\n",
    "print(sys.getsizeof(S)*len(S))\n",
    "#print(sys.getsizeof(S),len(S))\n",
    "D = np.arange(1000)\n",
    "print(D.size * D.itemsize)\n",
    "#print(D.size, D.itemsize)"
   ]
  },
  {
   "cell_type": "code",
   "execution_count": 35,
   "metadata": {},
   "outputs": [
    {
     "name": "stdout",
     "output_type": "stream",
     "text": [
      "[0, 2, 4, 6, 8] [0 2 4 6 8]\n",
      "[0, 2, 4, 6, 8] [0 2 4 6 8]\n",
      "[0, 2, 4, 6, 8] [0 2 4 6 8]\n",
      "[0, 2, 4, 6, 8] [0 2 4 6 8]\n",
      "[0, 2, 4, 6, 8] [0 2 4 6 8]\n",
      "[0, 2, 4, 6, 8] [0 2 4 6 8]\n",
      "[0, 2, 4, 6, 8] [0 2 4 6 8]\n",
      "583 µs ± 219 µs per loop (mean ± std. dev. of 7 runs, 1 loop each)\n"
     ]
    }
   ],
   "source": [
    "%%timeit -n 1\n",
    "l1 = range(5)\n",
    "l2 = range(5)\n",
    "# l1+l2 # addion not support\n",
    "rs=[(x+y) for x,y in zip(l1,l2)]\n",
    "A1 = np.arange(5)\n",
    "A2 = np.arange(5)\n",
    "rs1 = A1+A2 # nump will support direct addition\n",
    "# rs1\n",
    "print(rs,rs1)"
   ]
  },
  {
   "cell_type": "code",
   "execution_count": 2,
   "metadata": {},
   "outputs": [
    {
     "name": "stdout",
     "output_type": "stream",
     "text": [
      "1\n",
      "1\n",
      "1\n",
      "1\n",
      "1\n",
      "1\n",
      "1\n",
      "The slowest run took 8.44 times longer than the fastest. This could mean that an intermediate result is being cached.\n",
      "39.5 µs ± 47.6 µs per loop (mean ± std. dev. of 7 runs, 1 loop each)\n"
     ]
    }
   ],
   "source": [
    "%%timeit -n 1\n",
    "print(\"1\")"
   ]
  },
  {
   "cell_type": "markdown",
   "metadata": {},
   "source": [
    "## Numpy Operations"
   ]
  },
  {
   "cell_type": "code",
   "execution_count": 16,
   "metadata": {},
   "outputs": [
    {
     "name": "stdout",
     "output_type": "stream",
     "text": [
      "2\n"
     ]
    },
    {
     "data": {
      "text/plain": [
       "array([[1, 2],\n",
       "       [3, 4],\n",
       "       [5, 6]])"
      ]
     },
     "execution_count": 16,
     "metadata": {},
     "output_type": "execute_result"
    }
   ],
   "source": [
    "import numpy as np\n",
    "a = np.array([1,2,3])\n",
    "# ndim finds the dimention of array\n",
    "a.ndim\n",
    "\n",
    "a2 = np.array([[1,2,3],[4,5,6]])\n",
    "print(a2.ndim)\n",
    "# itemsize gives the size of each item in bytes\n",
    "a.itemsize\n",
    "\n",
    "# dtype terurns the type of elemwnt\n",
    "a.dtype\n",
    "# size retuens the length of array\n",
    "a.size\n",
    "\n",
    "# shape return the number of rows and columns of  an array\n",
    "a2.shape\n",
    "# reshape changes rows into columns\n",
    "a2.reshape(3,2)"
   ]
  },
  {
   "cell_type": "code",
   "execution_count": 31,
   "metadata": {},
   "outputs": [
    {
     "name": "stdout",
     "output_type": "stream",
     "text": [
      "12\n"
     ]
    },
    {
     "data": {
      "text/plain": [
       "1.0"
      ]
     },
     "execution_count": 31,
     "metadata": {},
     "output_type": "execute_result"
    }
   ],
   "source": [
    "a = np.array([(1,2,3,4),(5,6,7,8),(9,10,11,12)])\n",
    "a[0,3]# from 1st row 3rd index value\n",
    "print(a[2,3])# from 3rd row 3rd index value\n",
    "a[0:,2]# reading 2nd posion values from each row\n",
    "a[1:,2]# reading 2nd posion values from 1st row\n",
    "\n",
    "a1 = np.linspace(1,5,5) # linespace() it prints 5 eqval space values between 1 and 5\n",
    "a1\n",
    "a1.max()# returns maximum value from array a1\n",
    "a1.min()# returns minimum value from array a1\n",
    "a1.sum()# returns sum of array values "
   ]
  },
  {
   "cell_type": "code",
   "execution_count": null,
   "metadata": {},
   "outputs": [],
   "source": []
  }
 ],
 "metadata": {
  "kernelspec": {
   "display_name": "Python 3",
   "language": "python",
   "name": "python3"
  },
  "language_info": {
   "codemirror_mode": {
    "name": "ipython",
    "version": 3
   },
   "file_extension": ".py",
   "mimetype": "text/x-python",
   "name": "python",
   "nbconvert_exporter": "python",
   "pygments_lexer": "ipython3",
   "version": "3.7.3"
  }
 },
 "nbformat": 4,
 "nbformat_minor": 2
}
