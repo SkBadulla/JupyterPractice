{
 "cells": [
  {
   "cell_type": "markdown",
   "metadata": {},
   "source": [
    "## pandas Operations\n",
    "- Joining and Merging\n",
    "- Concatenation\n",
    "- Changing the column header\n",
    "- slicing the dataframe\n",
    "- Changing the index\n",
    "- Data Conversion"
   ]
  },
  {
   "cell_type": "code",
   "execution_count": 3,
   "metadata": {},
   "outputs": [
    {
     "name": "stdout",
     "output_type": "stream",
     "text": [
      "   Day  Visitors  Bounce_rate\n",
      "0    1      1000           20\n",
      "1    2       700           20\n",
      "2    3      6000           23\n",
      "3    4      1000           15\n",
      "4    5       400           10\n",
      "5    6       350           34\n"
     ]
    }
   ],
   "source": [
    "import pandas as pd\n",
    "mydata = {'Day':[1,2,3,4,5,6],\"Visitors\":[1000,700,6000,1000,400,350],\"Bounce_rate\":[20,20,23,15,10,34]}\n",
    "df= pd.DataFrame(mydata)\n",
    "print(df)"
   ]
  },
  {
   "cell_type": "markdown",
   "metadata": {},
   "source": [
    "### slicing the dataframe"
   ]
  },
  {
   "cell_type": "code",
   "execution_count": 4,
   "metadata": {},
   "outputs": [
    {
     "name": "stdout",
     "output_type": "stream",
     "text": [
      "   Day  Visitors  Bounce_rate\n",
      "0    1      1000           20\n",
      "1    2       700           20\n"
     ]
    }
   ],
   "source": [
    "print(df.head(2))"
   ]
  },
  {
   "cell_type": "code",
   "execution_count": 5,
   "metadata": {},
   "outputs": [
    {
     "name": "stdout",
     "output_type": "stream",
     "text": [
      "   Day  Visitors  Bounce_rate\n",
      "4    5       400           10\n",
      "5    6       350           34\n"
     ]
    }
   ],
   "source": [
    "print(df.tail(2))"
   ]
  },
  {
   "cell_type": "markdown",
   "metadata": {},
   "source": [
    "### Merging"
   ]
  },
  {
   "cell_type": "code",
   "execution_count": 7,
   "metadata": {},
   "outputs": [
    {
     "name": "stdout",
     "output_type": "stream",
     "text": [
      "   HPI  Int_rate_x  IND_GDP_x  Int_rate_y  IND_GDP_y\n",
      "0   80           2         50           2         50\n",
      "1   90           1         45           1         45\n",
      "2   60           2         45           2         45\n",
      "3   70           3         67           3         67\n"
     ]
    }
   ],
   "source": [
    "import pandas as pd\n",
    "df1=pd.DataFrame({\"HPI\":[80,90,60,70],\"Int_rate\":[2,1,2,3],\"IND_GDP\":[50,45,45,67]},\n",
    "                index=[2001,2002,2003,2004])\n",
    "\n",
    "df2=pd.DataFrame({\"HPI\":[80,90,60,70],\"Int_rate\":[2,1,2,3],\"IND_GDP\":[50,45,45,67]},\n",
    "                index=[2005,2006,2007,2008])\n",
    "# merge = pd.merge(df1,df2)\n",
    "merge = pd.merge(df1,df2,on=\"HPI\")\n",
    "print(merge)"
   ]
  },
  {
   "cell_type": "markdown",
   "metadata": {},
   "source": [
    "### Joining"
   ]
  },
  {
   "cell_type": "code",
   "execution_count": 10,
   "metadata": {},
   "outputs": [
    {
     "name": "stdout",
     "output_type": "stream",
     "text": [
      "      Int_rate  IND_GDP  Loe_tair_HPI  Unemployment\n",
      "2001         2       50          50.0           2.0\n",
      "2002         1       45           NaN           NaN\n",
      "2003         2       45          45.0           1.0\n",
      "2004         3       67          67.0           2.0\n",
      "2004         3       67          34.0           3.0\n"
     ]
    }
   ],
   "source": [
    "import pandas as pd\n",
    "df1=pd.DataFrame({\"Int_rate\":[2,1,2,3],\"IND_GDP\":[50,45,45,67]},\n",
    "                index=[2001,2002,2003,2004])\n",
    "\n",
    "df2=pd.DataFrame({\"Loe_tair_HPI\":[50,45,67,34],\"Unemployment\":[2,1,2,3]},\n",
    "                index=[2001,2003,2004,2004])\n",
    "joining = df1.join(df2)\n",
    "print(joining)"
   ]
  },
  {
   "cell_type": "code",
   "execution_count": null,
   "metadata": {},
   "outputs": [],
   "source": []
  }
 ],
 "metadata": {
  "kernelspec": {
   "display_name": "Python 3",
   "language": "python",
   "name": "python3"
  },
  "language_info": {
   "codemirror_mode": {
    "name": "ipython",
    "version": 3
   },
   "file_extension": ".py",
   "mimetype": "text/x-python",
   "name": "python",
   "nbconvert_exporter": "python",
   "pygments_lexer": "ipython3",
   "version": "3.7.3"
  }
 },
 "nbformat": 4,
 "nbformat_minor": 2
}
